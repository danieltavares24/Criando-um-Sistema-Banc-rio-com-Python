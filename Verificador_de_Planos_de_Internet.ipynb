{
  "nbformat": 4,
  "nbformat_minor": 0,
  "metadata": {
    "colab": {
      "provenance": [],
      "authorship_tag": "ABX9TyNC/Nb2aPyKqY5LDFas0mjl",
      "include_colab_link": true
    },
    "kernelspec": {
      "name": "python3",
      "display_name": "Python 3"
    },
    "language_info": {
      "name": "python"
    }
  },
  "cells": [
    {
      "cell_type": "markdown",
      "metadata": {
        "id": "view-in-github",
        "colab_type": "text"
      },
      "source": [
        "<a href=\"https://colab.research.google.com/github/danieltavares24/Criando-um-Sistema-Banc-rio-com-Python/blob/main/Verificador_de_Planos_de_Internet.ipynb\" target=\"_parent\"><img src=\"https://colab.research.google.com/assets/colab-badge.svg\" alt=\"Open In Colab\"/></a>"
      ]
    },
    {
      "cell_type": "code",
      "execution_count": null,
      "metadata": {
        "id": "bl_x5cvx_usG"
      },
      "outputs": [],
      "source": [
        "      # Direitos Reservados a Daniel Tavares\n",
        "\n",
        "def recommend_plan(consumo):\n",
        "  \"\"\"\n",
        "  Recomenda o plano de internet ideal para um cliente com base no consumo mensal de dados.\n",
        "\n",
        "  Args:\n",
        "   consumo: O consumo mensal de dados do cliente em GB (float).\n",
        "\n",
        "  Returns:\n",
        "   O plano de internet recomendado (string).\n",
        "  \"\"\"\n",
        "\n",
        "  if consumption <= 10:\n",
        "    plan = \"Plano Essencial Fibra - 50Mbps\"\n",
        "  elif consumption <= 20:\n",
        "    plan = \"Plano Prata Fibra - 100Mbps\"\n",
        "  else:\n",
        "    plan = \"Plano Premium Fibra - 300Mbps\"\n",
        "\n",
        "  return plan\n",
        "\n",
        "# Obtenha o consumo mensal de dados do cliente\n",
        "consumption = float(input(\"Insira seu consumo médio mensal de dados em GB: \"))\n",
        "\n",
        "# Recomende o plano de internet ideal\n",
        "recommended_plan = recommend_plan(consumption)\n",
        "print(f\"O plano ideal para você é: {recommended_plan}\")\n"
      ]
    }
  ]
}