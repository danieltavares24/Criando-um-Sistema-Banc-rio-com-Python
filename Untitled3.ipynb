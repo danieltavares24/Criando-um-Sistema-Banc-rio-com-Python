{
  "cells": [
    {
      "cell_type": "markdown",
      "metadata": {
        "id": "view-in-github",
        "colab_type": "text"
      },
      "source": [
        "<a href=\"https://colab.research.google.com/github/danieltavares24/Criando-um-Sistema-Banc-rio-com-Python/blob/main/Untitled3.ipynb\" target=\"_parent\"><img src=\"https://colab.research.google.com/assets/colab-badge.svg\" alt=\"Open In Colab\"/></a>"
      ]
    },
    {
      "cell_type": "code",
      "execution_count": null,
      "metadata": {
        "colab": {
          "base_uri": "https://localhost:8080/"
        },
        "id": "3ZA-bGrIIa_r",
        "outputId": "39b3a858-de20-48ce-cee1-b0d84661b584"
      },
      "outputs": [
        {
          "metadata": {
            "tags": null
          },
          "name": "stdout",
          "output_type": "stream",
          "text": [
            "\n",
            "Menu Principal:\n",
            "1. Depositar\n",
            "2. Sacar\n",
            "3. Extrato\n",
            "4. Sair\n"
          ]
        }
      ],
      "source": [
        "   # Criando um Sistema Bancário com Python\n",
        "\n",
        "saldo = 0  # Saldo inicial da conta\n",
        "historico_transacoes = []  # Lista para armazenar as transações (depósitos e saques)\n",
        "saques_hoje = 0  # Contador de saques realizados no dia\n",
        "\n",
        "# Função para depositar valor na conta\n",
        "def depositar(valor):\n",
        "    \"\"\"Deposita um valor na conta e atualiza o histórico de transações.\"\"\"\n",
        "    if valor > 0:\n",
        "        global saldo\n",
        "        saldo += valor\n",
        "        historico_transacoes.append(f\"Depósito: R$ {valor:.2f}\")\n",
        "        print(f\"Depósito realizado com sucesso! Saldo atual: R$ {saldo:.2f}\")\n",
        "    else:\n",
        "        print(\"Valor inválido. O valor do depósito deve ser positivo.\")\n",
        "\n",
        "# Função para realizar saque na conta\n",
        "def sacar(valor):\n",
        "    \"\"\"Realiza um saque na conta, considerando o limite diário e o saldo disponível.\"\"\"\n",
        "    global saldo, saques_hoje\n",
        "    if valor > 0 and saques_hoje < 3 and valor <= saldo:\n",
        "        saques_hoje += 1\n",
        "        saldo -= valor\n",
        "        historico_transacoes.append(f\"Saque: R$ {valor:.2f}\")\n",
        "        print(f\"Saque realizado com sucesso! Saldo atual: R$ {saldo:.2f}\")\n",
        "    elif saldo < valor:\n",
        "        print(\"Saldo insuficiente para realizar o saque.\")\n",
        "    elif saques_hoje >= 3:\n",
        "        print(\"Limite diário de saques excedido.\")\n",
        "    else:\n",
        "        print(\"Valor inválido. O valor do saque deve ser positivo.\")\n",
        "\n",
        "# Função para exibir o extrato da conta\n",
        "def extrato():\n",
        "    \"\"\"Exibe o histórico de transações e o saldo atual da conta.\"\"\"\n",
        "    if not historico_transacoes:\n",
        "        print(\"Não foram realizadas movimentações.\")\n",
        "    else:\n",
        "        print(\"\\nExtrato:\")\n",
        "        for transacao in historico_transacoes:\n",
        "            print(transacao)\n",
        "        print(f\"\\nSaldo atual: R$ {saldo:.2f}\")\n",
        "\n",
        "# Menu principal do sistema\n",
        "while True:\n",
        "    print(\"\\nMenu Principal:\")\n",
        "    print(\"1. Depositar\")\n",
        "    print(\"2. Sacar\")\n",
        "    print(\"3. Extrato\")\n",
        "    print(\"4. Sair\")\n",
        "\n",
        "    opcao = input(\"Digite a opção desejada: \")\n",
        "\n",
        "    if opcao == \"1\":\n",
        "        valor_deposito = float(input(\"Informe o valor do depósito: R$ \"))\n",
        "        depositar(valor_deposito)\n",
        "    elif opcao == \"2\":\n",
        "        valor_saque = float(input(\"Informe o valor do saque: R$ \"))\n",
        "        sacar(valor_saque)\n",
        "    elif opcao == \"3\":\n",
        "        extrato()\n",
        "    elif opcao == \"4\":\n",
        "        print(\"Obrigado por usar o sistema bancário!\")\n",
        "        break\n",
        "    else:\n",
        "        print(\"Opção inválida. Tente novamente.\")\n"
      ]
    },
    {
      "cell_type": "code",
      "source": [],
      "metadata": {
        "id": "mSjeaM2cfBdr"
      },
      "execution_count": null,
      "outputs": []
    }
  ],
  "metadata": {
    "colab": {
      "provenance": [],
      "authorship_tag": "ABX9TyNdiM/JPFzBbB+8kdws2OSj",
      "include_colab_link": true
    },
    "kernelspec": {
      "display_name": "Python 3",
      "name": "python3"
    },
    "language_info": {
      "name": "python"
    }
  },
  "nbformat": 4,
  "nbformat_minor": 0
}