{
  "nbformat": 4,
  "nbformat_minor": 0,
  "metadata": {
    "colab": {
      "provenance": [],
      "authorship_tag": "ABX9TyM09el3t5fOJ4pT1IvmUe1w",
      "include_colab_link": true
    },
    "kernelspec": {
      "name": "python3",
      "display_name": "Python 3"
    },
    "language_info": {
      "name": "python"
    }
  },
  "cells": [
    {
      "cell_type": "markdown",
      "metadata": {
        "id": "view-in-github",
        "colab_type": "text"
      },
      "source": [
        "<a href=\"https://colab.research.google.com/github/danieltavares24/Criando-um-Sistema-Banc-rio-com-Python/blob/main/Criando_uma_Lista_de_Equipamentos.ipynb\" target=\"_parent\"><img src=\"https://colab.research.google.com/assets/colab-badge.svg\" alt=\"Open In Colab\"/></a>"
      ]
    },
    {
      "cell_type": "code",
      "source": [
        "# Crie uma lista vazia para armazenar os equipamentos\n",
        "itens = []\n",
        "\n",
        "# Solicite ao usuário inserir até três equipamentos\n",
        "for _ in range(3):\n",
        "    item = input(\"Digite o nome do equipamento: \")\n",
        "    itens.append(item)\n",
        "\n",
        "# Exiba a lista de equipamentos\n",
        "print(\"Lista de Equipamentos:\")\n",
        "for item in itens:\n",
        "    print(f\"- {item}\")\n"
      ],
      "metadata": {
        "id": "VL5ypl8KKAds"
      },
      "execution_count": null,
      "outputs": []
    }
  ]
}